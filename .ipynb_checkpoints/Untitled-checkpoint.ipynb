{
 "cells": [
  {
   "cell_type": "code",
   "execution_count": 4,
   "metadata": {},
   "outputs": [],
   "source": [
    "import matplotlib.pyplot as plt\n",
    "from mpl_toolkits.mplot3d import Axes3D\n",
    "import ipywidgets as widgets"
   ]
  },
  {
   "cell_type": "code",
   "execution_count": 66,
   "metadata": {},
   "outputs": [
    {
     "data": {
      "application/vnd.jupyter.widget-view+json": {
       "model_id": "7a45d6c450a04e919d0d73a47553eadd",
       "version_major": 2,
       "version_minor": 0
      },
      "text/plain": [
       "interactive(children=(IntSlider(value=30, description='ymax', max=50, min=10), FloatSlider(value=0.0, descript…"
      ]
     },
     "metadata": {},
     "output_type": "display_data"
    }
   ],
   "source": [
    "%matplotlib inline\n",
    "from ipywidgets import interactive\n",
    "import matplotlib.pyplot as plt\n",
    "import numpy as np\n",
    "\n",
    "def ellipse(ymax, ymin, xmax, angle, ):\n",
    "    plt.figure(2, figsize=(7, 7))\n",
    "    plt.axes().set_aspect('equal')\n",
    "    angles = np.linspace(0, 2*np.pi, 100)\n",
    "    x, y = (ymax+ymin)/2+(ymax-ymin)/2*np.cos(angle), xmax*np.sin(angle)\n",
    "    plt.plot((ymax+ymin)/2+(ymax-ymin)/2*np.cos(angles), xmax*np.sin(angles))\n",
    "    plt.scatter(-x, y)\n",
    "    plt.quiver(x, y, 2, 2, angles=[np.degrees(angle)])\n",
    "    plt.xlabel('y')\n",
    "    plt.ylabel('x')\n",
    "    plt.xlim(-20, 50)\n",
    "    plt.ylim(-20, 20)\n",
    "    plt.grid()\n",
    "    plt.show()\n",
    "\n",
    "interactive_plot = interactive(ellipse, ymax=(10, 50), ymin=(-10, 10, 0.5), xmax=(5, 25), angle=(0, 2.1*3.14))\n",
    "output = interactive_plot.children[-1]\n",
    "output.layout.height = '350px'\n",
    "interactive_plot\n",
    "\n"
   ]
  },
  {
   "cell_type": "code",
   "execution_count": null,
   "metadata": {},
   "outputs": [],
   "source": [
    "%matplotlib notebook\n",
    "from ipywidgets import interactive\n",
    "import matplotlib.pyplot as plt\n",
    "import numpy as np\n",
    "import matplotlib.pyplot as plt\n",
    "from mpl_toolkits.mplot3d import Axes3D\n",
    "\n",
    "def ellipse(ymax, ymin, xmax, angle, ):\n",
    "    fig = plt.figure()\n",
    "    ax = fig.add_subplot(111, projection='3d')\n",
    "    angles = np.linspace(0, 2*np.pi, 100)\n",
    "    x, y = (ymax+ymin)/2+(ymax-ymin)/2*np.cos(angle), xmax*np.sin(angle)\n",
    "    ax.plot((ymax+ymin)/2+(ymax-ymin)/2*np.cos(angles), xmax*np.sin(angles))\n",
    "    ax.scatter(x, y, 0)\n",
    "    ax.quiver(x, y, 0, x+np.sin(angle), y+np.cos(angle), 0)\n",
    "    ax.set_xlabel('y')\n",
    "    ax.set_ylabel('x')\n",
    "    ax.set_xlim(-20, 50)\n",
    "    ax.set_ylim(-20, 20)\n",
    "    plt.grid()\n",
    "    plt.show()\n",
    "\n",
    "interactive_plot = interactive(ellipse, ymax=(10, 50), ymin=(-10, 10, 0.5), xmax=(5, 25), angle=(0, 2.1*3.14))\n",
    "output = interactive_plot.children[-1]\n",
    "output.layout.height = '350px'\n",
    "interactive_plot\n",
    "\n"
   ]
  },
  {
   "cell_type": "code",
   "execution_count": 17,
   "metadata": {},
   "outputs": [
    {
     "data": {
      "application/vnd.jupyter.widget-view+json": {
       "model_id": "67e4a5b3ea3f49c3a82195d797b14e92",
       "version_major": 2,
       "version_minor": 0
      },
      "text/plain": [
       "interactive(children=(FloatSlider(value=0.0, description='m', max=2.0, min=-2.0), FloatSlider(value=0.0, descr…"
      ]
     },
     "metadata": {},
     "output_type": "display_data"
    }
   ],
   "source": [
    "%matplotlib inline\n",
    "from ipywidgets import interactive\n",
    "import matplotlib.pyplot as plt\n",
    "import numpy as np\n",
    "\n",
    "def f(m, b):\n",
    "    plt.figure(2)\n",
    "    x = np.linspace(-10, 10, num=1000)\n",
    "    plt.plot(x, m * x + b)\n",
    "    plt.ylim(-5, 5)\n",
    "    plt.show()\n",
    "\n",
    "interactive_plot = interactive(f, m=(-2.0, 2.0), b=(-3, 3, 0.5))\n",
    "output = interactive_plot.children[-1]\n",
    "output.layout.height = '350px'\n",
    "interactive_plot\n",
    "\n"
   ]
  },
  {
   "cell_type": "code",
   "execution_count": null,
   "metadata": {},
   "outputs": [],
   "source": []
  }
 ],
 "metadata": {
  "kernelspec": {
   "display_name": "Python 3",
   "language": "python",
   "name": "python3"
  },
  "language_info": {
   "codemirror_mode": {
    "name": "ipython",
    "version": 3
   },
   "file_extension": ".py",
   "mimetype": "text/x-python",
   "name": "python",
   "nbconvert_exporter": "python",
   "pygments_lexer": "ipython3",
   "version": "3.7.5"
  }
 },
 "nbformat": 4,
 "nbformat_minor": 4
}
